{
 "cells": [
  {
   "cell_type": "code",
   "execution_count": 15,
   "metadata": {},
   "outputs": [],
   "source": [
    "import math\n",
    "import cv2\n",
    "import cvzone\n",
    "import torch\n",
    "\n",
    "\n",
    "#import easyocr\n",
    "import csv\n",
    "import os\n",
    "import numpy as np\n",
    "import pandas as pd\n",
    "import cv2\n",
    "import re\n",
    "\n",
    "import pathlib\n",
    "temp = pathlib.PosixPath\n",
    "pathlib.PosixPath = pathlib.WindowsPath\n"
   ]
  },
  {
   "cell_type": "code",
   "execution_count": 3,
   "metadata": {},
   "outputs": [
    {
     "name": "stdout",
     "output_type": "stream",
     "text": [
      "Collecting easyocr\n",
      "  Using cached easyocr-1.7.1-py3-none-any.whl.metadata (11 kB)\n",
      "Requirement already satisfied: torch in d:\\deepl learning project\\object-detection\\venv1\\lib\\site-packages (from easyocr) (2.3.0)\n",
      "Requirement already satisfied: torchvision>=0.5 in d:\\deepl learning project\\object-detection\\venv1\\lib\\site-packages (from easyocr) (0.18.0)\n",
      "Collecting opencv-python-headless (from easyocr)\n",
      "  Using cached opencv_python_headless-4.9.0.80-cp37-abi3-win_amd64.whl.metadata (20 kB)\n",
      "Requirement already satisfied: scipy in d:\\deepl learning project\\object-detection\\venv1\\lib\\site-packages (from easyocr) (1.13.0)\n",
      "Requirement already satisfied: numpy in d:\\deepl learning project\\object-detection\\venv1\\lib\\site-packages (from easyocr) (1.26.4)\n",
      "Requirement already satisfied: Pillow in d:\\deepl learning project\\object-detection\\venv1\\lib\\site-packages (from easyocr) (10.3.0)\n",
      "Collecting scikit-image (from easyocr)\n",
      "  Using cached scikit_image-0.23.2-cp310-cp310-win_amd64.whl.metadata (14 kB)\n",
      "Requirement already satisfied: python-bidi in d:\\deepl learning project\\object-detection\\venv1\\lib\\site-packages (from easyocr) (0.4.2)\n",
      "Requirement already satisfied: PyYAML in d:\\deepl learning project\\object-detection\\venv1\\lib\\site-packages (from easyocr) (6.0.1)\n",
      "Requirement already satisfied: Shapely in d:\\deepl learning project\\object-detection\\venv1\\lib\\site-packages (from easyocr) (2.0.4)\n",
      "Requirement already satisfied: pyclipper in d:\\deepl learning project\\object-detection\\venv1\\lib\\site-packages (from easyocr) (1.3.0.post5)\n",
      "Requirement already satisfied: ninja in d:\\deepl learning project\\object-detection\\venv1\\lib\\site-packages (from easyocr) (1.11.1.1)\n",
      "Requirement already satisfied: filelock in d:\\deepl learning project\\object-detection\\venv1\\lib\\site-packages (from torch->easyocr) (3.13.4)\n",
      "Requirement already satisfied: typing-extensions>=4.8.0 in d:\\deepl learning project\\object-detection\\venv1\\lib\\site-packages (from torch->easyocr) (4.11.0)\n",
      "Requirement already satisfied: sympy in d:\\deepl learning project\\object-detection\\venv1\\lib\\site-packages (from torch->easyocr) (1.12)\n",
      "Requirement already satisfied: networkx in d:\\deepl learning project\\object-detection\\venv1\\lib\\site-packages (from torch->easyocr) (3.3)\n",
      "Requirement already satisfied: jinja2 in d:\\deepl learning project\\object-detection\\venv1\\lib\\site-packages (from torch->easyocr) (3.1.3)\n",
      "Requirement already satisfied: fsspec in d:\\deepl learning project\\object-detection\\venv1\\lib\\site-packages (from torch->easyocr) (2024.3.1)\n",
      "Requirement already satisfied: mkl<=2021.4.0,>=2021.1.1 in d:\\deepl learning project\\object-detection\\venv1\\lib\\site-packages (from torch->easyocr) (2021.4.0)\n",
      "Requirement already satisfied: six in d:\\deepl learning project\\object-detection\\venv1\\lib\\site-packages (from python-bidi->easyocr) (1.16.0)\n",
      "Collecting imageio>=2.33 (from scikit-image->easyocr)\n",
      "  Using cached imageio-2.34.1-py3-none-any.whl.metadata (4.9 kB)\n",
      "Requirement already satisfied: tifffile>=2022.8.12 in d:\\deepl learning project\\object-detection\\venv1\\lib\\site-packages (from scikit-image->easyocr) (2024.4.24)\n",
      "Requirement already satisfied: packaging>=21 in d:\\deepl learning project\\object-detection\\venv1\\lib\\site-packages (from scikit-image->easyocr) (24.0)\n",
      "Collecting lazy-loader>=0.4 (from scikit-image->easyocr)\n",
      "  Using cached lazy_loader-0.4-py3-none-any.whl.metadata (7.6 kB)\n",
      "Requirement already satisfied: intel-openmp==2021.* in d:\\deepl learning project\\object-detection\\venv1\\lib\\site-packages (from mkl<=2021.4.0,>=2021.1.1->torch->easyocr) (2021.4.0)\n",
      "Requirement already satisfied: tbb==2021.* in d:\\deepl learning project\\object-detection\\venv1\\lib\\site-packages (from mkl<=2021.4.0,>=2021.1.1->torch->easyocr) (2021.12.0)\n",
      "Requirement already satisfied: MarkupSafe>=2.0 in d:\\deepl learning project\\object-detection\\venv1\\lib\\site-packages (from jinja2->torch->easyocr) (2.1.5)\n",
      "Requirement already satisfied: mpmath>=0.19 in d:\\deepl learning project\\object-detection\\venv1\\lib\\site-packages (from sympy->torch->easyocr) (1.3.0)\n",
      "Using cached easyocr-1.7.1-py3-none-any.whl (2.9 MB)\n",
      "Using cached opencv_python_headless-4.9.0.80-cp37-abi3-win_amd64.whl (38.5 MB)\n",
      "Using cached scikit_image-0.23.2-cp310-cp310-win_amd64.whl (12.7 MB)\n",
      "Using cached imageio-2.34.1-py3-none-any.whl (313 kB)\n",
      "Using cached lazy_loader-0.4-py3-none-any.whl (12 kB)\n",
      "Installing collected packages: opencv-python-headless, lazy-loader, imageio, scikit-image, easyocr\n",
      "Successfully installed easyocr-1.7.1 imageio-2.34.1 lazy-loader-0.4 opencv-python-headless-4.9.0.80 scikit-image-0.23.2\n",
      "Collecting paddleocr\n",
      "  Using cached paddleocr-2.7.3-py3-none-any.whl.metadata (26 kB)\n",
      "Requirement already satisfied: shapely in d:\\deepl learning project\\object-detection\\venv1\\lib\\site-packages (from paddleocr) (2.0.4)\n",
      "Requirement already satisfied: scikit-image in d:\\deepl learning project\\object-detection\\venv1\\lib\\site-packages (from paddleocr) (0.23.2)\n",
      "Collecting imgaug (from paddleocr)\n",
      "  Using cached imgaug-0.4.0-py2.py3-none-any.whl.metadata (1.8 kB)\n",
      "Requirement already satisfied: pyclipper in d:\\deepl learning project\\object-detection\\venv1\\lib\\site-packages (from paddleocr) (1.3.0.post5)\n",
      "Requirement already satisfied: lmdb in d:\\deepl learning project\\object-detection\\venv1\\lib\\site-packages (from paddleocr) (1.4.1)\n",
      "Requirement already satisfied: tqdm in d:\\deepl learning project\\object-detection\\venv1\\lib\\site-packages (from paddleocr) (4.66.2)\n",
      "Requirement already satisfied: numpy in d:\\deepl learning project\\object-detection\\venv1\\lib\\site-packages (from paddleocr) (1.26.4)\n",
      "Collecting visualdl (from paddleocr)\n",
      "  Using cached visualdl-2.5.3-py3-none-any.whl.metadata (25 kB)\n",
      "Requirement already satisfied: rapidfuzz in d:\\deepl learning project\\object-detection\\venv1\\lib\\site-packages (from paddleocr) (3.8.1)\n",
      "Collecting opencv-python<=4.6.0.66 (from paddleocr)\n",
      "  Using cached opencv_python-4.6.0.66-cp36-abi3-win_amd64.whl.metadata (18 kB)\n",
      "Collecting opencv-contrib-python<=4.6.0.66 (from paddleocr)\n",
      "  Using cached opencv_contrib_python-4.6.0.66-cp36-abi3-win_amd64.whl.metadata (18 kB)\n",
      "Collecting cython (from paddleocr)\n",
      "  Using cached Cython-3.0.10-cp310-cp310-win_amd64.whl.metadata (3.2 kB)\n",
      "Collecting lxml (from paddleocr)\n",
      "  Using cached lxml-5.2.1-cp310-cp310-win_amd64.whl.metadata (3.5 kB)\n",
      "Collecting premailer (from paddleocr)\n",
      "  Using cached premailer-3.10.0-py2.py3-none-any.whl.metadata (15 kB)\n",
      "Collecting openpyxl (from paddleocr)\n",
      "  Using cached openpyxl-3.1.2-py2.py3-none-any.whl.metadata (2.5 kB)\n",
      "Collecting attrdict (from paddleocr)\n",
      "  Using cached attrdict-2.0.1-py2.py3-none-any.whl.metadata (6.7 kB)\n",
      "Requirement already satisfied: Pillow>=10.0.0 in d:\\deepl learning project\\object-detection\\venv1\\lib\\site-packages (from paddleocr) (10.3.0)\n",
      "Requirement already satisfied: pyyaml in d:\\deepl learning project\\object-detection\\venv1\\lib\\site-packages (from paddleocr) (6.0.1)\n",
      "Collecting python-docx (from paddleocr)\n",
      "  Using cached python_docx-1.1.0-py3-none-any.whl.metadata (2.0 kB)\n",
      "Requirement already satisfied: beautifulsoup4 in d:\\deepl learning project\\object-detection\\venv1\\lib\\site-packages (from paddleocr) (4.12.3)\n",
      "Requirement already satisfied: fonttools>=4.24.0 in d:\\deepl learning project\\object-detection\\venv1\\lib\\site-packages (from paddleocr) (4.51.0)\n",
      "Collecting fire>=0.3.0 (from paddleocr)\n",
      "  Using cached fire-0.6.0-py2.py3-none-any.whl\n",
      "Collecting pdf2docx (from paddleocr)\n",
      "  Using cached pdf2docx-0.5.8-py3-none-any.whl.metadata (3.2 kB)\n",
      "Requirement already satisfied: six in d:\\deepl learning project\\object-detection\\venv1\\lib\\site-packages (from fire>=0.3.0->paddleocr) (1.16.0)\n",
      "Requirement already satisfied: termcolor in d:\\deepl learning project\\object-detection\\venv1\\lib\\site-packages (from fire>=0.3.0->paddleocr) (2.4.0)\n",
      "Requirement already satisfied: soupsieve>1.2 in d:\\deepl learning project\\object-detection\\venv1\\lib\\site-packages (from beautifulsoup4->paddleocr) (2.5)\n",
      "Requirement already satisfied: scipy in d:\\deepl learning project\\object-detection\\venv1\\lib\\site-packages (from imgaug->paddleocr) (1.13.0)\n",
      "Requirement already satisfied: matplotlib in d:\\deepl learning project\\object-detection\\venv1\\lib\\site-packages (from imgaug->paddleocr) (3.8.4)\n",
      "Requirement already satisfied: imageio in d:\\deepl learning project\\object-detection\\venv1\\lib\\site-packages (from imgaug->paddleocr) (2.34.1)\n",
      "Requirement already satisfied: networkx>=2.8 in d:\\deepl learning project\\object-detection\\venv1\\lib\\site-packages (from scikit-image->paddleocr) (3.3)\n",
      "Requirement already satisfied: tifffile>=2022.8.12 in d:\\deepl learning project\\object-detection\\venv1\\lib\\site-packages (from scikit-image->paddleocr) (2024.4.24)\n",
      "Requirement already satisfied: packaging>=21 in d:\\deepl learning project\\object-detection\\venv1\\lib\\site-packages (from scikit-image->paddleocr) (24.0)\n",
      "Requirement already satisfied: lazy-loader>=0.4 in d:\\deepl learning project\\object-detection\\venv1\\lib\\site-packages (from scikit-image->paddleocr) (0.4)\n",
      "Collecting et-xmlfile (from openpyxl->paddleocr)\n",
      "  Using cached et_xmlfile-1.1.0-py3-none-any.whl.metadata (1.8 kB)\n",
      "Collecting PyMuPDF>=1.19.0 (from pdf2docx->paddleocr)\n",
      "  Using cached PyMuPDF-1.24.2-cp310-none-win_amd64.whl.metadata (3.4 kB)\n",
      "Requirement already satisfied: opencv-python-headless>=4.5 in d:\\deepl learning project\\object-detection\\venv1\\lib\\site-packages (from pdf2docx->paddleocr) (4.9.0.80)\n",
      "Requirement already satisfied: typing-extensions in d:\\deepl learning project\\object-detection\\venv1\\lib\\site-packages (from python-docx->paddleocr) (4.11.0)\n",
      "Collecting cssselect (from premailer->paddleocr)\n",
      "  Using cached cssselect-1.2.0-py2.py3-none-any.whl.metadata (2.2 kB)\n",
      "Collecting cssutils (from premailer->paddleocr)\n",
      "  Using cached cssutils-2.10.2-py3-none-any.whl.metadata (8.7 kB)\n",
      "Requirement already satisfied: requests in d:\\deepl learning project\\object-detection\\venv1\\lib\\site-packages (from premailer->paddleocr) (2.31.0)\n",
      "Collecting cachetools (from premailer->paddleocr)\n",
      "  Using cached cachetools-5.3.3-py3-none-any.whl.metadata (5.3 kB)\n",
      "Requirement already satisfied: colorama in d:\\deepl learning project\\object-detection\\venv1\\lib\\site-packages (from tqdm->paddleocr) (0.4.6)\n",
      "Collecting bce-python-sdk (from visualdl->paddleocr)\n",
      "  Using cached bce_python_sdk-0.9.7-py3-none-any.whl.metadata (318 bytes)\n",
      "Requirement already satisfied: flask>=1.1.1 in d:\\deepl learning project\\object-detection\\venv1\\lib\\site-packages (from visualdl->paddleocr) (3.0.3)\n",
      "Collecting Flask-Babel>=3.0.0 (from visualdl->paddleocr)\n",
      "  Using cached flask_babel-4.0.0-py3-none-any.whl.metadata (1.9 kB)\n",
      "Requirement already satisfied: protobuf>=3.20.0 in d:\\deepl learning project\\object-detection\\venv1\\lib\\site-packages (from visualdl->paddleocr) (5.26.1)\n",
      "Requirement already satisfied: pandas in d:\\deepl learning project\\object-detection\\venv1\\lib\\site-packages (from visualdl->paddleocr) (2.2.2)\n",
      "Requirement already satisfied: rarfile in d:\\deepl learning project\\object-detection\\venv1\\lib\\site-packages (from visualdl->paddleocr) (4.2)\n",
      "Requirement already satisfied: psutil in d:\\deepl learning project\\object-detection\\venv1\\lib\\site-packages (from visualdl->paddleocr) (5.9.8)\n",
      "Requirement already satisfied: Werkzeug>=3.0.0 in d:\\deepl learning project\\object-detection\\venv1\\lib\\site-packages (from flask>=1.1.1->visualdl->paddleocr) (3.0.2)\n",
      "Requirement already satisfied: Jinja2>=3.1.2 in d:\\deepl learning project\\object-detection\\venv1\\lib\\site-packages (from flask>=1.1.1->visualdl->paddleocr) (3.1.3)\n",
      "Requirement already satisfied: itsdangerous>=2.1.2 in d:\\deepl learning project\\object-detection\\venv1\\lib\\site-packages (from flask>=1.1.1->visualdl->paddleocr) (2.2.0)\n",
      "Requirement already satisfied: click>=8.1.3 in d:\\deepl learning project\\object-detection\\venv1\\lib\\site-packages (from flask>=1.1.1->visualdl->paddleocr) (8.1.7)\n",
      "Requirement already satisfied: blinker>=1.6.2 in d:\\deepl learning project\\object-detection\\venv1\\lib\\site-packages (from flask>=1.1.1->visualdl->paddleocr) (1.7.0)\n",
      "Requirement already satisfied: Babel>=2.12 in d:\\deepl learning project\\object-detection\\venv1\\lib\\site-packages (from Flask-Babel>=3.0.0->visualdl->paddleocr) (2.14.0)\n",
      "Requirement already satisfied: pytz>=2022.7 in d:\\deepl learning project\\object-detection\\venv1\\lib\\site-packages (from Flask-Babel>=3.0.0->visualdl->paddleocr) (2024.1)\n",
      "Requirement already satisfied: PyMuPDFb==1.24.1 in d:\\deepl learning project\\object-detection\\venv1\\lib\\site-packages (from PyMuPDF>=1.19.0->pdf2docx->paddleocr) (1.24.1)\n",
      "Requirement already satisfied: pycryptodome>=3.8.0 in d:\\deepl learning project\\object-detection\\venv1\\lib\\site-packages (from bce-python-sdk->visualdl->paddleocr) (3.20.0)\n",
      "Collecting future>=0.6.0 (from bce-python-sdk->visualdl->paddleocr)\n",
      "  Using cached future-1.0.0-py3-none-any.whl.metadata (4.0 kB)\n",
      "Requirement already satisfied: contourpy>=1.0.1 in d:\\deepl learning project\\object-detection\\venv1\\lib\\site-packages (from matplotlib->imgaug->paddleocr) (1.2.1)\n",
      "Requirement already satisfied: cycler>=0.10 in d:\\deepl learning project\\object-detection\\venv1\\lib\\site-packages (from matplotlib->imgaug->paddleocr) (0.12.1)\n",
      "Requirement already satisfied: kiwisolver>=1.3.1 in d:\\deepl learning project\\object-detection\\venv1\\lib\\site-packages (from matplotlib->imgaug->paddleocr) (1.4.5)\n",
      "Requirement already satisfied: pyparsing>=2.3.1 in d:\\deepl learning project\\object-detection\\venv1\\lib\\site-packages (from matplotlib->imgaug->paddleocr) (3.1.2)\n",
      "Requirement already satisfied: python-dateutil>=2.7 in d:\\deepl learning project\\object-detection\\venv1\\lib\\site-packages (from matplotlib->imgaug->paddleocr) (2.9.0.post0)\n",
      "Requirement already satisfied: tzdata>=2022.7 in d:\\deepl learning project\\object-detection\\venv1\\lib\\site-packages (from pandas->visualdl->paddleocr) (2024.1)\n",
      "Requirement already satisfied: charset-normalizer<4,>=2 in d:\\deepl learning project\\object-detection\\venv1\\lib\\site-packages (from requests->premailer->paddleocr) (3.3.2)\n",
      "Requirement already satisfied: idna<4,>=2.5 in d:\\deepl learning project\\object-detection\\venv1\\lib\\site-packages (from requests->premailer->paddleocr) (3.7)\n",
      "Requirement already satisfied: urllib3<3,>=1.21.1 in d:\\deepl learning project\\object-detection\\venv1\\lib\\site-packages (from requests->premailer->paddleocr) (2.2.1)\n",
      "Requirement already satisfied: certifi>=2017.4.17 in d:\\deepl learning project\\object-detection\\venv1\\lib\\site-packages (from requests->premailer->paddleocr) (2024.2.2)\n",
      "Requirement already satisfied: MarkupSafe>=2.0 in d:\\deepl learning project\\object-detection\\venv1\\lib\\site-packages (from Jinja2>=3.1.2->flask>=1.1.1->visualdl->paddleocr) (2.1.5)\n",
      "Using cached paddleocr-2.7.3-py3-none-any.whl (780 kB)\n",
      "Using cached opencv_contrib_python-4.6.0.66-cp36-abi3-win_amd64.whl (42.5 MB)\n",
      "Using cached opencv_python-4.6.0.66-cp36-abi3-win_amd64.whl (35.6 MB)\n",
      "Using cached attrdict-2.0.1-py2.py3-none-any.whl (9.9 kB)\n",
      "Using cached Cython-3.0.10-cp310-cp310-win_amd64.whl (2.8 MB)\n",
      "Using cached imgaug-0.4.0-py2.py3-none-any.whl (948 kB)\n",
      "Using cached lxml-5.2.1-cp310-cp310-win_amd64.whl (3.8 MB)\n",
      "Using cached openpyxl-3.1.2-py2.py3-none-any.whl (249 kB)\n",
      "Using cached pdf2docx-0.5.8-py3-none-any.whl (132 kB)\n",
      "Using cached python_docx-1.1.0-py3-none-any.whl (239 kB)\n",
      "Using cached premailer-3.10.0-py2.py3-none-any.whl (19 kB)\n",
      "Using cached visualdl-2.5.3-py3-none-any.whl (6.3 MB)\n",
      "Using cached flask_babel-4.0.0-py3-none-any.whl (9.6 kB)\n",
      "Using cached PyMuPDF-1.24.2-cp310-none-win_amd64.whl (3.2 MB)\n",
      "Using cached bce_python_sdk-0.9.7-py3-none-any.whl (331 kB)\n",
      "Using cached cachetools-5.3.3-py3-none-any.whl (9.3 kB)\n",
      "Using cached cssselect-1.2.0-py2.py3-none-any.whl (18 kB)\n",
      "Using cached cssutils-2.10.2-py3-none-any.whl (398 kB)\n",
      "Using cached et_xmlfile-1.1.0-py3-none-any.whl (4.7 kB)\n",
      "Using cached future-1.0.0-py3-none-any.whl (491 kB)\n",
      "Installing collected packages: PyMuPDF, opencv-python, opencv-contrib-python, lxml, future, fire, et-xmlfile, cython, cssutils, cssselect, cachetools, attrdict, python-docx, premailer, openpyxl, bce-python-sdk, pdf2docx, imgaug, Flask-Babel, visualdl, paddleocr\n",
      "  Attempting uninstall: opencv-python\n",
      "    Found existing installation: opencv-python 4.9.0.80\n",
      "    Uninstalling opencv-python-4.9.0.80:\n",
      "      Successfully uninstalled opencv-python-4.9.0.80\n",
      "Successfully installed Flask-Babel-4.0.0 PyMuPDF-1.24.2 attrdict-2.0.1 bce-python-sdk-0.9.7 cachetools-5.3.3 cssselect-1.2.0 cssutils-2.10.2 cython-3.0.10 et-xmlfile-1.1.0 fire-0.6.0 future-1.0.0 imgaug-0.4.0 lxml-5.2.1 opencv-contrib-python-4.6.0.66 opencv-python-4.6.0.66 openpyxl-3.1.2 paddleocr-2.7.3 pdf2docx-0.5.8 premailer-3.10.0 python-docx-1.1.0 visualdl-2.5.3\n"
     ]
    }
   ],
   "source": [
    "# !pip install cvzon\n",
    "!pip install easyocr\n",
    "!pip install paddleocr"
   ]
  },
  {
   "cell_type": "code",
   "execution_count": 16,
   "metadata": {},
   "outputs": [],
   "source": [
    "os.chdir(\"..\")"
   ]
  },
  {
   "cell_type": "code",
   "execution_count": 17,
   "metadata": {},
   "outputs": [
    {
     "data": {
      "text/plain": [
       "'d:\\\\Deepl learning project\\\\Object-Detection'"
      ]
     },
     "execution_count": 17,
     "metadata": {},
     "output_type": "execute_result"
    }
   ],
   "source": [
    "%pwd"
   ]
  },
  {
   "cell_type": "code",
   "execution_count": 124,
   "metadata": {},
   "outputs": [],
   "source": [
    "def predict_number_plate(img, ocr):\n",
    "    result = ocr.ocr(img, cls=True)\n",
    "    result = result[0]\n",
    "    texts = [line[1][0] for line in result]\n",
    "    scores = [line[1][1] for line in result]\n",
    "    if (scores[0]*100) >= 90:\n",
    "        return re.sub(r'[^a-zA-Z0-9]', '', texts[0]), scores[0]\n",
    "    else:\n",
    "        return None, None"
   ]
  },
  {
   "cell_type": "code",
   "execution_count": 28,
   "metadata": {},
   "outputs": [
    {
     "data": {
      "text/plain": [
       "0"
      ]
     },
     "execution_count": 28,
     "metadata": {},
     "output_type": "execute_result"
    }
   ],
   "source": [
    "os.system(\"cd yolov5/ && python detect.py --weights best.pt --img 320 --conf 0.5 --source ../data/inputImage.jpg\")"
   ]
  },
  {
   "cell_type": "code",
   "execution_count": 29,
   "metadata": {},
   "outputs": [],
   "source": [
    "result_image = cv2.imread(\"yolov5/runs/detect/exp/inputImage.jpg\")\n",
    "\n",
    "# Display the resulting image\n",
    "cv2.imshow(\"YOLOv5 Detection Result\", result_image)\n",
    "cv2.waitKey(0)\n",
    "cv2.destroyAllWindows()\n"
   ]
  },
  {
   "cell_type": "code",
   "execution_count": 106,
   "metadata": {},
   "outputs": [],
   "source": [
    "import os\n",
    "import cv2\n",
    "\n",
    "# Execute YOLOv5 detection command\n",
    "os.system(\"cd yolov5/ && python detect.py --weights best.pt --img 320 --conf 0.5 --source ../data/inputImage.jpg --save-txt\")\n",
    "\n",
    "# Read the resulting image\n",
    "result_image = cv2.imread(\"yolov5/runs/detect/exp/inputImage.jpg\")\n",
    "\n",
    "# Read the output text file containing object coordinates\n",
    "with open(\"yolov5/runs/detect/exp/labels/inputImage.txt\", \"r\") as file:\n",
    "    lines = file.readlines()\n",
    "\n",
    "# Parse the coordinates and draw bounding boxestrain/images/new5.jpg\n",
    "class_id = []\n",
    "for line in lines:\n",
    "    data = line.strip().split(\" \")\n",
    "    class_id.append(int(data[0]))\n",
    "    if 1 in class_id:\n",
    "        \n",
    "        if 3 in  class_id :\n",
    "            confidence = float(data[1])\n",
    "            x_center = float(data[1]) * result_image.shape[1]\n",
    "            y_center = float(data[2]) * result_image.shape[0]\n",
    "            width = float(data[3]) * result_image.shape[1]\n",
    "            height = float(data[4]) * result_image.shape[0]\n",
    "            \n",
    "            x1 = int(x_center - width / 2)\n",
    "            y1 = int(y_center - height / 2)\n",
    "            x2 = int(x_center + width / 2)\n",
    "            y2 = int(y_center + height / 2)\n",
    "            \n",
    "            cv2.rectangle(result_image, (x1, y1), (x2, y2), (0, 255, 0), 2)\n",
    "            cv2.putText(result_image, f\"Class: {class_id}, Confidence: {confidence:.2f}, \"\n",
    "                                    f\"Coords: ({x_center:.2f}, {y_center:.2f})\", (x1, y1 - 10),\n",
    "            cv2.FONT_HERSHEY_SIMPLEX, 0.5, (0, 255, 0), 2)\n",
    "\n",
    "# Display the resulting image\n",
    "cv2.imshow(\"YOLOv5 Detection Result\", result_image)\n",
    "cv2.waitKey(0)\n",
    "cv2.destroyAllWindows()\n"
   ]
  },
  {
   "cell_type": "code",
   "execution_count": 34,
   "metadata": {},
   "outputs": [],
   "source": [
    "with open(\"yolov5/runs/detect/exp/labels/inputImage.txt\", \"r\") as file:\n",
    "    lines = file.readlines()"
   ]
  },
  {
   "cell_type": "code",
   "execution_count": 73,
   "metadata": {},
   "outputs": [
    {
     "name": "stdout",
     "output_type": "stream",
     "text": [
      "3 0.346154 0.64133 0.230769 0.0831354\n",
      "\n"
     ]
    }
   ],
   "source": [
    "for line in lines[1:-1]:\n",
    "    print(line)"
   ]
  },
  {
   "cell_type": "code",
   "execution_count": 76,
   "metadata": {},
   "outputs": [
    {
     "name": "stdout",
     "output_type": "stream",
     "text": [
      "2 0.531674 0.545724 0.714932 0.891924\n",
      "\n",
      "3 0.346154 0.64133 0.230769 0.0831354\n",
      "\n",
      "1 0.531674 0.186461 0.235294 0.123515\n",
      "\n"
     ]
    }
   ],
   "source": [
    "for line in lines:\n",
    "    print(line)"
   ]
  },
  {
   "cell_type": "code",
   "execution_count": 97,
   "metadata": {},
   "outputs": [],
   "source": [
    "class_id = []\n",
    "for line in lines:\n",
    "    data = line.strip().split(\" \")\n",
    "    class_id.append(int(data[0]))\n",
    "    if 2 == class_id:\n",
    "        if class_id == 3:\n",
    "            print(\"ok\")"
   ]
  },
  {
   "cell_type": "code",
   "execution_count": 98,
   "metadata": {},
   "outputs": [
    {
     "data": {
      "text/plain": [
       "[2, 3, 1]"
      ]
     },
     "execution_count": 98,
     "metadata": {},
     "output_type": "execute_result"
    }
   ],
   "source": [
    "class_id\n",
    "    "
   ]
  },
  {
   "cell_type": "code",
   "execution_count": 99,
   "metadata": {},
   "outputs": [
    {
     "data": {
      "text/plain": [
       "False"
      ]
     },
     "execution_count": 99,
     "metadata": {},
     "output_type": "execute_result"
    }
   ],
   "source": [
    "class_id == 1"
   ]
  },
  {
   "cell_type": "code",
   "execution_count": 103,
   "metadata": {},
   "outputs": [
    {
     "name": "stdout",
     "output_type": "stream",
     "text": [
      "ok\n"
     ]
    }
   ],
   "source": [
    "if 1 in class_id:\n",
    "    print(\"ok\")"
   ]
  },
  {
   "cell_type": "code",
   "execution_count": 126,
   "metadata": {},
   "outputs": [],
   "source": [
    "import os\n",
    "import cv2\n",
    "\n",
    "# Execute YOLOv5 detection command\n",
    "os.system(\"cd yolov5/ && python detect.py --weights best.pt --img 320 --conf 0.5 --source ../data/inputImage.jpg --save-txt \")\n",
    "\n",
    "# Read the resulting image\n",
    "result_image = cv2.imread(\"yolov5/runs/detect/exp/inputImage.jpg\")\n",
    "\n",
    "# Read the output text file containing object coordinates\n",
    "with open(\"yolov5/runs/detect/exp/labels/inputImage.txt\", \"r\") as file:\n",
    "    lines = file.readlines()\n",
    "\n",
    "# Parse the coordinates and draw bounding boxestrain/images/new5.jpg\n",
    "class_id = []\n",
    "for line in lines:\n",
    "    data = line.strip().split(\" \")\n",
    "    class_id.append(int(data[0]))\n",
    "    confidence = float(data[1])\n",
    "    x_center = float(data[1]) * result_image.shape[1]\n",
    "    y_center = float(data[2]) * result_image.shape[0]\n",
    "    width = float(data[3]) * result_image.shape[1]\n",
    "    height = float(data[4]) * result_image.shape[0]\n",
    "    if 1 in class_id:\n",
    "        pass\n",
    "        if 3 in class_id:\n",
    "            x1 = int(x_center - width / 2)\n",
    "            y1 = int(y_center - height / 2)\n",
    "            x2 = int(x_center + width / 2)\n",
    "            y2 = int(y_center + height / 2)\n",
    "            cropped_image = result_image[y1:y2, x1:x2]\n",
    "    # cv2.rectangle(result_image, (x1, y1), (x2, y2), (0, 255, 0), 2)\n",
    "    # cv2.putText(result_image, f\"Class: {class_id}, Confidence: {confidence:.2f}, \"\n",
    "    #                         f\"Coords: ({x_center:.2f}, {y_center:.2f})\", (x1, y1 - 10),\n",
    "    # cv2.FONT_HERSHEY_SIMPLEX, 0.5, (0, 255, 0), 2)\n",
    "\n",
    "# Display the resulting image\n",
    "cv2.imshow(\"YOLOv5 Detection Result\", cropped_image)\n",
    "cv2.waitKey(0)\n",
    "cv2.destroyAllWindows()"
   ]
  },
  {
   "cell_type": "code",
   "execution_count": 7,
   "metadata": {},
   "outputs": [],
   "source": [
    "import easyocr\n",
    "import uuid\n",
    "import csv"
   ]
  },
  {
   "cell_type": "code",
   "execution_count": 14,
   "metadata": {},
   "outputs": [],
   "source": [
    "def save_result(text, region, csv_filename, folder_path):\n",
    "    image_name = f\"{format(uuid.uuid1())}.jpg\"\n",
    "    \n",
    "    cv2.imwrite(os.path.join(folder_path, image_name), region)\n",
    "    \n",
    "    with open(csv_filename, mode='a',newline=\"\") as f:\n",
    "        Csv_writer = csv.writer(f,delimiter=',',quotechar='\"', quoting=csv.QUOTE_MINIMAL)\n",
    "        Csv_writer.writerow([image_name,text])"
   ]
  },
  {
   "cell_type": "code",
   "execution_count": 15,
   "metadata": {},
   "outputs": [
    {
     "name": "stderr",
     "output_type": "stream",
     "text": [
      "Neither CUDA nor MPS are available - defaulting to CPU. Note: This module is much faster with a GPU.\n"
     ]
    },
    {
     "name": "stdout",
     "output_type": "stream",
     "text": [
      "[([[10, 10], [184, 10], [184, 36], [10, 36]], 'KA 51HG 4702', 0.4884807628487523)]\n"
     ]
    }
   ],
   "source": [
    "import os\n",
    "import cv2\n",
    "\n",
    "# Execute YOLOv5 detection command\n",
    "os.system(\"cd yolov5/ && python detect.py --weights best.pt --img 320 --conf 0.5 --source ../data/inputImage.jpg --save-txt\")\n",
    "\n",
    "# Read the resulting image\n",
    "result_image = cv2.imread(\"yolov5/runs/detect/exp/inputImage.jpg\")\n",
    "\n",
    "# Read the output text file containing object coordinates\n",
    "with open(\"yolov5/runs/detect/exp/labels/inputImage.txt\", \"r\") as file:\n",
    "    lines = file.readlines()\n",
    "\n",
    "# Initialize a variable to store the class IDs\n",
    "class_id = []\n",
    "reader = easyocr.Reader(['en'])\n",
    "# Parse the coordinates and find the class IDs\n",
    "for line in lines:\n",
    "    data = line.strip().split(\" \")\n",
    "    class_id.append(int(data[0]))\n",
    "\n",
    "# Check if class 1 and class 3 are present in the detected objects\n",
    "if 1 in class_id and 3 in class_id:\n",
    "    for line in lines:\n",
    "        data = line.strip().split(\" \")\n",
    "        class_id = int(data[0])\n",
    "        confidence = float(data[1])\n",
    "        x_center = float(data[1]) * result_image.shape[1]\n",
    "        y_center = float(data[2]) * result_image.shape[0]\n",
    "        width = float(data[3]) * result_image.shape[1]\n",
    "        height = float(data[4]) * result_image.shape[0]\n",
    "        if class_id == 3:  # Check if the class ID is 3\n",
    "            x1 = int(x_center - width / 2)\n",
    "            y1 = int(y_center - height / 2)\n",
    "            x2 = int(x_center + width / 2)\n",
    "            y2 = int(y_center + height / 2)\n",
    "            cropped_image = result_image[y1:y2, x1:x2]\n",
    "            ocr_result = reader.readtext(cropped_image)\n",
    "            print(ocr_result)\n",
    "            save_result(text=ocr_result[0][1],region=cropped_image,csv_filename=\"number_plate_data.csv\",folder_path='run')\n",
    "            break  # Break out of the loop after finding the first object of class 3\n",
    "\n",
    "    # Display the cropped image of the first object of class 3\n",
    "    cv2.imshow(\"Cropped Image\", cropped_image)\n",
    "    cv2.waitKey(0)\n",
    "    cv2.destroyAllWindows()\n",
    "else:\n",
    "    print(\"Class 1 or Class 3 not found in the detected objects.\")\n"
   ]
  },
  {
   "cell_type": "code",
   "execution_count": 12,
   "metadata": {},
   "outputs": [
    {
     "data": {
      "text/plain": [
       "'KA 51HG 4702'"
      ]
     },
     "execution_count": 12,
     "metadata": {},
     "output_type": "execute_result"
    }
   ],
   "source": [
    "ocr_result[0][1]"
   ]
  },
  {
   "cell_type": "code",
   "execution_count": 157,
   "metadata": {},
   "outputs": [],
   "source": [
    "def save_result(text, region, csv_filename, folder_path):\n",
    "    image_name = f\"{format(uuid.uuid1())}.jpg\"\n",
    "    \n",
    "    cv2.imwrite(os.path.join(folder_path, image_name), region)\n",
    "    with open(csv_filename, mode='w',newline=\"\") as f:\n",
    "        Csv_writer = csv.writer(f,delimiter=',',quotechar='\"', quoting=csv.QUOTE_MINIMAL)\n",
    "        Csv_writer.writerow([image_name,text])"
   ]
  },
  {
   "cell_type": "code",
   "execution_count": 155,
   "metadata": {},
   "outputs": [],
   "source": [
    "a = ocr_result[1][1]"
   ]
  },
  {
   "cell_type": "code",
   "execution_count": 158,
   "metadata": {},
   "outputs": [],
   "source": [
    "save_result(text=a,region=cropped_image,csv_filename=\"number_plate_data.csv\",folder_path='run')"
   ]
  },
  {
   "cell_type": "code",
   "execution_count": 4,
   "metadata": {},
   "outputs": [
    {
     "data": {
      "text/plain": [
       "'d:\\\\Deepl learning project\\\\Object-Detection'"
      ]
     },
     "execution_count": 4,
     "metadata": {},
     "output_type": "execute_result"
    }
   ],
   "source": [
    "%pwd"
   ]
  },
  {
   "cell_type": "code",
   "execution_count": 3,
   "metadata": {},
   "outputs": [],
   "source": [
    "os.chdir('..')"
   ]
  },
  {
   "cell_type": "code",
   "execution_count": null,
   "metadata": {},
   "outputs": [],
   "source": []
  }
 ],
 "metadata": {
  "kernelspec": {
   "display_name": "venv",
   "language": "python",
   "name": "python3"
  },
  "language_info": {
   "codemirror_mode": {
    "name": "ipython",
    "version": 3
   },
   "file_extension": ".py",
   "mimetype": "text/x-python",
   "name": "python",
   "nbconvert_exporter": "python",
   "pygments_lexer": "ipython3",
   "version": "3.10.0"
  }
 },
 "nbformat": 4,
 "nbformat_minor": 2
}
